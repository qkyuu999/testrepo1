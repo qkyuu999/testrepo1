{
 "cells": [
  {
   "cell_type": "markdown",
   "id": "c4261e55-dc96-49d2-9641-782cbcd8d18a",
   "metadata": {},
   "source": [
    "# Data Science Tools and Ecosystem"
   ]
  },
  {
   "cell_type": "markdown",
   "id": "97a0291a-8bd3-4675-9b33-ff27b7ecd168",
   "metadata": {},
   "source": [
    "*In this notebook, Data Science Tools and Ecosystem are summarized*"
   ]
  },
  {
   "cell_type": "markdown",
   "id": "11496d80-0124-4e99-81ea-5fdfa9d9d3bd",
   "metadata": {},
   "source": [
    "*Some of the popular languages that Data Scientists use are:*\n",
    "\n",
    "*ordered list*\n",
    "\n",
    "1. python\n",
    "2. R\n",
    "3. SQL\n",
    "4. Jav"
   ]
  },
  {
   "cell_type": "markdown",
   "id": "78bbc5ab-47d4-4089-95a1-f5cfea685f54",
   "metadata": {},
   "source": [
    "**Objectives:**\n",
    "*List popular languages for Data Science*\n",
    "- JavaScript\n",
    "- C\n",
    "- C++"
   ]
  },
  {
   "cell_type": "markdown",
   "id": "4d6c6744-b674-4558-b3d2-28d52f402815",
   "metadata": {},
   "source": [
    "*Some of the commonly used libraries used by Data Scientists include:*\n",
    "\n",
    "*ordered list*\n",
    "\n",
    "1. Numpy\n",
    "2. Pandas\n",
    "3. TensorFlow\n",
    "4. Matplotlib"
   ]
  },
  {
   "cell_type": "markdown",
   "id": "15f1d334-76d2-42d6-bd2f-4e664f02e384",
   "metadata": {},
   "source": [
    "|Data Science Tools|\n",
    "|------------------|\n",
    "|Apache Spark|\n",
    "|Rstudio|\n",
    "|Apache Hadoop|"
   ]
  },
  {
   "cell_type": "markdown",
   "id": "7af9b3e3-4b12-47ab-9ddd-3be67abea915",
   "metadata": {},
   "source": [
    "### Below are a few examples of evaluating arithmetic expressions in Python"
   ]
  },
  {
   "cell_type": "code",
   "execution_count": 2,
   "id": "c4c7f3d1-ce85-4bef-88aa-aafc01408f86",
   "metadata": {},
   "outputs": [
    {
     "data": {
      "text/plain": [
       "17"
      ]
     },
     "execution_count": 2,
     "metadata": {},
     "output_type": "execute_result"
    }
   ],
   "source": [
    "#This a simple arithmetic expression to mutiply then add integers\n",
    "(3*4)+5"
   ]
  },
  {
   "cell_type": "code",
   "execution_count": 11,
   "id": "12e3f021-8805-4ae6-8fc2-425865a9626f",
   "metadata": {},
   "outputs": [
    {
     "name": "stdout",
     "output_type": "stream",
     "text": [
      "3\n"
     ]
    }
   ],
   "source": [
    "#This will convert 200 minutes to hours by diving by 60\n",
    "min=200\n",
    "h=min//60\n",
    "print(h)"
   ]
  },
  {
   "cell_type": "markdown",
   "id": "9b716f2f-0e19-472d-b3a3-69b4dfa738cf",
   "metadata": {},
   "source": [
    "## Anthor\n",
    "*QIU YATING*"
   ]
  }
 ],
 "metadata": {
  "kernelspec": {
   "display_name": "Python 3 (ipykernel)",
   "language": "python",
   "name": "python3"
  },
  "language_info": {
   "codemirror_mode": {
    "name": "ipython",
    "version": 3
   },
   "file_extension": ".py",
   "mimetype": "text/x-python",
   "name": "python",
   "nbconvert_exporter": "python",
   "pygments_lexer": "ipython3",
   "version": "3.11.8"
  }
 },
 "nbformat": 4,
 "nbformat_minor": 5
}
